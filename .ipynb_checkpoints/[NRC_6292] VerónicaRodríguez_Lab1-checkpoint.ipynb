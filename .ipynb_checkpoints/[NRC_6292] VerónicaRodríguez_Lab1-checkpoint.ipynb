{
 "cells": [
  {
   "cell_type": "code",
   "execution_count": 1,
   "id": "bb7b1c90",
   "metadata": {},
   "outputs": [],
   "source": [
    "# importar librerías\n",
    "from sklearn import datasets\n",
    "from sklearn.model_selection import train_test_split\n",
    "from sklearn import svm\n",
    "from sklearn import metrics"
   ]
  },
  {
   "cell_type": "code",
   "execution_count": 2,
   "id": "12ecc8c4",
   "metadata": {},
   "outputs": [],
   "source": [
    "# Cargar el dataset\n",
    "dicc = datasets.load_digits()"
   ]
  },
  {
   "cell_type": "code",
   "execution_count": 9,
   "id": "665e1433",
   "metadata": {},
   "outputs": [
    {
     "name": "stdout",
     "output_type": "stream",
     "text": [
      "Descripción:\n",
      " .. _digits_dataset:\n",
      "\n",
      "Optical recognition of handwritten digits dataset\n",
      "--------------------------------------------------\n",
      "\n",
      "**Data Set Characteristics:**\n",
      "\n",
      "    :Number of Instances: 1797\n",
      "    :Number of Attributes: 64\n",
      "    :Attribute Information: 8x8 image of integer pixels in the range 0..16.\n",
      "    :Missing Attribute Values: None\n",
      "    :Creator: E. Alpaydin (alpaydin '@' boun.edu.tr)\n",
      "    :Date: July; 1998\n",
      "\n",
      "This is a copy of the test set of the UCI ML hand-written digits datasets\n",
      "https://archive.ics.uci.edu/ml/datasets/Optical+Recognition+of+Handwritten+Digits\n",
      "\n",
      "The data set contains images of hand-written digits: 10 classes where\n",
      "each class refers to a digit.\n",
      "\n",
      "Preprocessing programs made available by NIST were used to extract\n",
      "normalized bitmaps of handwritten digits from a preprinted form. From a\n",
      "total of 43 people, 30 contributed to the training set and different 13\n",
      "to the test set. 32x32 bitmaps are divided into nonoverlapping blocks of\n",
      "4x4 and the number of on pixels are counted in each block. This generates\n",
      "an input matrix of 8x8 where each element is an integer in the range\n",
      "0..16. This reduces dimensionality and gives invariance to small\n",
      "distortions.\n",
      "\n",
      "For info on NIST preprocessing routines, see M. D. Garris, J. L. Blue, G.\n",
      "T. Candela, D. L. Dimmick, J. Geist, P. J. Grother, S. A. Janet, and C.\n",
      "L. Wilson, NIST Form-Based Handprint Recognition System, NISTIR 5469,\n",
      "1994.\n",
      "\n",
      ".. topic:: References\n",
      "\n",
      "  - C. Kaynak (1995) Methods of Combining Multiple Classifiers and Their\n",
      "    Applications to Handwritten Digit Recognition, MSc Thesis, Institute of\n",
      "    Graduate Studies in Science and Engineering, Bogazici University.\n",
      "  - E. Alpaydin, C. Kaynak (1998) Cascading Classifiers, Kybernetika.\n",
      "  - Ken Tang and Ponnuthurai N. Suganthan and Xi Yao and A. Kai Qin.\n",
      "    Linear dimensionalityreduction using relevance weighted LDA. School of\n",
      "    Electrical and Electronic Engineering Nanyang Technological University.\n",
      "    2005.\n",
      "  - Claudio Gentile. A New Approximate Maximal Margin Classification\n",
      "    Algorithm. NIPS. 2000.\n",
      "\n"
     ]
    }
   ],
   "source": [
    "# Imprimir la descripción\n",
    "print(\"Descripción:\\n\", dicc.DESCR)"
   ]
  },
  {
   "cell_type": "code",
   "execution_count": 10,
   "id": "0985c7fa",
   "metadata": {},
   "outputs": [
    {
     "name": "stdout",
     "output_type": "stream",
     "text": [
      "Frame:\n",
      " None\n"
     ]
    }
   ],
   "source": [
    "# Imprimir el frame\n",
    "# No se han cargado los datos\n",
    "print(\"Frame:\\n\", dicc.frame)"
   ]
  },
  {
   "cell_type": "code",
   "execution_count": 17,
   "id": "f912107d",
   "metadata": {},
   "outputs": [
    {
     "name": "stdout",
     "output_type": "stream",
     "text": [
      "shape:\n",
      " (1797, 64)\n"
     ]
    }
   ],
   "source": [
    "# Imprimir como esta compuesto el dataset\n",
    "# 1797 registros/samples y 64 columnas\n",
    "print(\"shape:\\n\", dicc.data.shape)"
   ]
  },
  {
   "cell_type": "code",
   "execution_count": 18,
   "id": "03c1f92d",
   "metadata": {},
   "outputs": [
    {
     "name": "stdout",
     "output_type": "stream",
     "text": [
      "Features:\n",
      " ['pixel_0_0', 'pixel_0_1', 'pixel_0_2', 'pixel_0_3', 'pixel_0_4', 'pixel_0_5', 'pixel_0_6', 'pixel_0_7', 'pixel_1_0', 'pixel_1_1', 'pixel_1_2', 'pixel_1_3', 'pixel_1_4', 'pixel_1_5', 'pixel_1_6', 'pixel_1_7', 'pixel_2_0', 'pixel_2_1', 'pixel_2_2', 'pixel_2_3', 'pixel_2_4', 'pixel_2_5', 'pixel_2_6', 'pixel_2_7', 'pixel_3_0', 'pixel_3_1', 'pixel_3_2', 'pixel_3_3', 'pixel_3_4', 'pixel_3_5', 'pixel_3_6', 'pixel_3_7', 'pixel_4_0', 'pixel_4_1', 'pixel_4_2', 'pixel_4_3', 'pixel_4_4', 'pixel_4_5', 'pixel_4_6', 'pixel_4_7', 'pixel_5_0', 'pixel_5_1', 'pixel_5_2', 'pixel_5_3', 'pixel_5_4', 'pixel_5_5', 'pixel_5_6', 'pixel_5_7', 'pixel_6_0', 'pixel_6_1', 'pixel_6_2', 'pixel_6_3', 'pixel_6_4', 'pixel_6_5', 'pixel_6_6', 'pixel_6_7', 'pixel_7_0', 'pixel_7_1', 'pixel_7_2', 'pixel_7_3', 'pixel_7_4', 'pixel_7_5', 'pixel_7_6', 'pixel_7_7']\n"
     ]
    }
   ],
   "source": [
    "# Imprimir los nombres de las carcaterísticas\n",
    "# Nombres X\n",
    "print(\"Features:\\n\", dicc.feature_names)"
   ]
  },
  {
   "cell_type": "code",
   "execution_count": 19,
   "id": "fbe407ae",
   "metadata": {},
   "outputs": [
    {
     "data": {
      "text/plain": [
       "array([[ 0.,  0.,  5., ...,  0.,  0.,  0.],\n",
       "       [ 0.,  0.,  0., ..., 10.,  0.,  0.],\n",
       "       [ 0.,  0.,  0., ..., 16.,  9.,  0.],\n",
       "       ...,\n",
       "       [ 0.,  0.,  1., ...,  6.,  0.,  0.],\n",
       "       [ 0.,  0.,  2., ..., 12.,  0.,  0.],\n",
       "       [ 0.,  0., 10., ..., 12.,  1.,  0.]])"
      ]
     },
     "execution_count": 19,
     "metadata": {},
     "output_type": "execute_result"
    }
   ],
   "source": [
    "# data pertenece a features con 30 caraterísticas/columnas\n",
    "dicc.data"
   ]
  },
  {
   "cell_type": "code",
   "execution_count": 20,
   "id": "4f033cd4",
   "metadata": {},
   "outputs": [
    {
     "name": "stdout",
     "output_type": "stream",
     "text": [
      "Labels:\n",
      " [0 1 2 3 4 5 6 7 8 9]\n"
     ]
    }
   ],
   "source": [
    "# Imprimir las etiquetas\n",
    "# Nombres y\n",
    "print(\"Labels:\\n\", dicc.target_names)"
   ]
  },
  {
   "cell_type": "code",
   "execution_count": 21,
   "id": "937ccda0",
   "metadata": {},
   "outputs": [
    {
     "data": {
      "text/plain": [
       "array([0, 1, 2, ..., 8, 9, 8])"
      ]
     },
     "execution_count": 21,
     "metadata": {},
     "output_type": "execute_result"
    }
   ],
   "source": [
    "# target pertenerce a target_name con 1 columna de etiquetas\n",
    "dicc.target"
   ]
  },
  {
   "cell_type": "code",
   "execution_count": 22,
   "id": "32b43a84",
   "metadata": {},
   "outputs": [
    {
     "name": "stdout",
     "output_type": "stream",
     "text": [
      "Images:\n",
      " [[[ 0.  0.  5. ...  1.  0.  0.]\n",
      "  [ 0.  0. 13. ... 15.  5.  0.]\n",
      "  [ 0.  3. 15. ... 11.  8.  0.]\n",
      "  ...\n",
      "  [ 0.  4. 11. ... 12.  7.  0.]\n",
      "  [ 0.  2. 14. ... 12.  0.  0.]\n",
      "  [ 0.  0.  6. ...  0.  0.  0.]]\n",
      "\n",
      " [[ 0.  0.  0. ...  5.  0.  0.]\n",
      "  [ 0.  0.  0. ...  9.  0.  0.]\n",
      "  [ 0.  0.  3. ...  6.  0.  0.]\n",
      "  ...\n",
      "  [ 0.  0.  1. ...  6.  0.  0.]\n",
      "  [ 0.  0.  1. ...  6.  0.  0.]\n",
      "  [ 0.  0.  0. ... 10.  0.  0.]]\n",
      "\n",
      " [[ 0.  0.  0. ... 12.  0.  0.]\n",
      "  [ 0.  0.  3. ... 14.  0.  0.]\n",
      "  [ 0.  0.  8. ... 16.  0.  0.]\n",
      "  ...\n",
      "  [ 0.  9. 16. ...  0.  0.  0.]\n",
      "  [ 0.  3. 13. ... 11.  5.  0.]\n",
      "  [ 0.  0.  0. ... 16.  9.  0.]]\n",
      "\n",
      " ...\n",
      "\n",
      " [[ 0.  0.  1. ...  1.  0.  0.]\n",
      "  [ 0.  0. 13. ...  2.  1.  0.]\n",
      "  [ 0.  0. 16. ... 16.  5.  0.]\n",
      "  ...\n",
      "  [ 0.  0. 16. ... 15.  0.  0.]\n",
      "  [ 0.  0. 15. ... 16.  0.  0.]\n",
      "  [ 0.  0.  2. ...  6.  0.  0.]]\n",
      "\n",
      " [[ 0.  0.  2. ...  0.  0.  0.]\n",
      "  [ 0.  0. 14. ... 15.  1.  0.]\n",
      "  [ 0.  4. 16. ... 16.  7.  0.]\n",
      "  ...\n",
      "  [ 0.  0.  0. ... 16.  2.  0.]\n",
      "  [ 0.  0.  4. ... 16.  2.  0.]\n",
      "  [ 0.  0.  5. ... 12.  0.  0.]]\n",
      "\n",
      " [[ 0.  0. 10. ...  1.  0.  0.]\n",
      "  [ 0.  2. 16. ...  1.  0.  0.]\n",
      "  [ 0.  0. 15. ... 15.  0.  0.]\n",
      "  ...\n",
      "  [ 0.  4. 16. ... 16.  6.  0.]\n",
      "  [ 0.  8. 16. ... 16.  8.  0.]\n",
      "  [ 0.  1.  8. ... 12.  1.  0.]]]\n"
     ]
    }
   ],
   "source": [
    "# Imprimir las imágenes\n",
    "print(\"Images:\\n\", dicc.images)"
   ]
  },
  {
   "cell_type": "code",
   "execution_count": 23,
   "id": "3076e42d",
   "metadata": {},
   "outputs": [
    {
     "name": "stdout",
     "output_type": "stream",
     "text": [
      "10 primeras carcterísticas:\n",
      " ['pixel_0_0', 'pixel_0_1', 'pixel_0_2', 'pixel_0_3', 'pixel_0_4', 'pixel_0_5', 'pixel_0_6', 'pixel_0_7', 'pixel_1_0', 'pixel_1_1']\n"
     ]
    }
   ],
   "source": [
    "# Imprimir los 10 primeros\n",
    "print(\"10 primeras carcterísticas:\\n\", dicc.feature_names[0:10])"
   ]
  },
  {
   "cell_type": "code",
   "execution_count": 24,
   "id": "a32ba0fe",
   "metadata": {},
   "outputs": [],
   "source": [
    "# Dividir el dataset en entrenamiento y en test\n",
    "# En Algoritmos Tradicionales------------------\n",
    "# 70% para entrenar\n",
    "# 30% para test\n",
    "\n",
    "# Variables para entrenar\n",
    "# X_train, X_test, y_train, y_test\n",
    "\n",
    "# PARÁMETROS\n",
    "# Primero data que es el X\n",
    "# Segundo las etiquetas (y)\n",
    "# Tercero el porcentaje \n",
    "# Cuarto que se setee el parámetro random\n",
    "\n",
    "X = dicc.data\n",
    "y = dicc.target\n",
    "\n",
    "X_train, X_test, y_train, y_test = train_test_split(X, y, test_size=0.3, random_state=109)"
   ]
  },
  {
   "cell_type": "code",
   "execution_count": 25,
   "id": "c8008706",
   "metadata": {},
   "outputs": [
    {
     "name": "stdout",
     "output_type": "stream",
     "text": [
      "X_train:\n",
      " 1257\n",
      "X_test:\n",
      " 540\n",
      "y_train:\n",
      " 1257\n",
      "y_test:\n",
      " 540\n"
     ]
    }
   ],
   "source": [
    "# Número de registros de X_train, X_test, y_train, y_test\n",
    "print(\"X_train:\\n\", X_train.shape[0])\n",
    "print(\"X_test:\\n\", X_test.shape[0])\n",
    "print(\"y_train:\\n\", y_train.shape[0])\n",
    "print(\"y_test:\\n\", y_test.shape[0])"
   ]
  },
  {
   "cell_type": "code",
   "execution_count": 26,
   "id": "4e1e1c25",
   "metadata": {},
   "outputs": [],
   "source": [
    "# Crear el modelo\n",
    "# Objeto: svm\n",
    "# Método: SVC\n",
    "# Parámetro: hiperparámetro\n",
    "clf = svm.SVC(kernel='linear')"
   ]
  },
  {
   "cell_type": "code",
   "execution_count": 27,
   "id": "df35046f",
   "metadata": {},
   "outputs": [
    {
     "data": {
      "text/plain": [
       "SVC(kernel='linear')"
      ]
     },
     "execution_count": 27,
     "metadata": {},
     "output_type": "execute_result"
    }
   ],
   "source": [
    "# Entrenar el modelo\n",
    "# Método: fit para ajustar (SIEMPRE PARA ENTENAR)\n",
    "clf.fit(X_train, y_train)"
   ]
  },
  {
   "cell_type": "code",
   "execution_count": 28,
   "id": "f85b56c2",
   "metadata": {},
   "outputs": [
    {
     "name": "stdout",
     "output_type": "stream",
     "text": [
      "y_pred:\n",
      " [0 6 3 6 5 6 9 8 8 0 1 9 5 4 0 3 1 0 5 8 0 3 7 8 6 2 4 2 8 9 6 2 9 2 2 1 3\n",
      " 9 0 5 7 7 3 9 3 7 2 3 8 3 0 8 2 4 6 7 9 8 2 7 8 6 5 2 8 9 0 7 3 7 9 8 3 7\n",
      " 8 7 8 0 9 7 8 5 7 9 6 2 8 8 8 5 0 9 7 7 8 9 3 3 7 5 9 7 5 6 4 3 1 5 4 1 1\n",
      " 8 6 3 2 9 4 6 1 4 4 7 4 8 5 5 6 2 7 5 2 1 2 8 4 1 7 4 4 0 4 2 4 5 3 5 4 3\n",
      " 0 0 5 1 6 5 8 5 9 3 9 3 8 0 8 8 2 5 3 7 2 5 5 1 7 4 2 3 5 6 3 7 6 7 8 3 5\n",
      " 1 6 9 4 6 6 9 8 6 6 1 2 0 4 6 5 7 7 6 6 1 6 8 3 9 6 2 6 0 0 3 3 7 8 7 4 9\n",
      " 6 8 1 1 0 7 7 3 9 1 2 3 6 0 6 4 1 1 6 1 2 7 6 9 4 0 6 4 1 0 3 2 8 2 9 0 7\n",
      " 8 1 2 3 9 7 4 3 3 1 6 6 4 3 1 4 7 7 8 1 0 4 4 5 7 6 9 7 2 5 9 6 6 5 1 6 8\n",
      " 1 5 5 9 0 1 4 4 0 4 8 8 2 0 3 5 7 8 0 9 9 1 2 1 1 8 4 1 5 7 8 7 3 9 6 6 3\n",
      " 2 9 0 8 2 5 8 3 7 5 5 3 6 0 5 6 8 3 5 6 6 6 7 9 7 6 7 1 1 1 8 1 5 1 1 4 1\n",
      " 7 3 2 7 9 6 6 5 3 3 5 2 2 7 9 2 2 3 5 8 8 3 2 2 9 1 8 2 2 0 2 8 1 3 3 9 0\n",
      " 0 3 5 9 6 3 1 4 8 2 1 2 9 4 2 3 1 8 0 9 9 7 7 8 1 4 7 1 0 8 4 5 6 9 2 0 5\n",
      " 4 4 3 9 7 3 7 3 1 7 6 1 2 5 9 1 3 1 4 6 4 0 9 2 8 8 7 3 7 6 7 6 0 9 7 1 9\n",
      " 8 4 0 9 9 8 4 2 7 3 5 4 5 5 4 0 3 5 6 7 1 6 8 8 7 2 5 1 1 0 4 8 4 0 1 5 0\n",
      " 9 1 6 7 1 1 4 7 2 0 2 7 0 4 8 2 3 6 3 7 3 3]\n"
     ]
    }
   ],
   "source": [
    "# Predecir la respuesta para el conjunto de datos de prueba\n",
    "# predict: pasar el X_test par saber si el algoritmo esta ok\n",
    "y_pred = clf.predict(X_test)\n",
    "print(\"y_pred:\\n\", y_pred)"
   ]
  },
  {
   "cell_type": "code",
   "execution_count": 29,
   "id": "c588fc28",
   "metadata": {},
   "outputs": [
    {
     "name": "stdout",
     "output_type": "stream",
     "text": [
      "Accuracy: 0.9814814814814815\n"
     ]
    }
   ],
   "source": [
    "# Evaluar el modelo\n",
    "# Precisión del modelo: con qué frecuencia el clasificador es correcto\n",
    "# Método: metrics para evaluar el modelo tomando en cuanta la evaluación y la predicción\n",
    "print(\"Accuracy:\", metrics.accuracy_score(y_test, y_pred))"
   ]
  },
  {
   "cell_type": "code",
   "execution_count": 36,
   "id": "dbaf69c0",
   "metadata": {},
   "outputs": [
    {
     "ename": "SyntaxError",
     "evalue": "invalid syntax (2412677231.py, line 5)",
     "output_type": "error",
     "traceback": [
      "\u001b[1;36m  Input \u001b[1;32mIn [36]\u001b[1;36m\u001b[0m\n\u001b[1;33m    average='macro'))\u001b[0m\n\u001b[1;37m    ^\u001b[0m\n\u001b[1;31mSyntaxError\u001b[0m\u001b[1;31m:\u001b[0m invalid syntax\n"
     ]
    }
   ],
   "source": [
    "# Evaluar el modelo\n",
    "# Precisión del modelo: qué porcentaje de tuplas positivas están etiquetadas como tales\n",
    "\n",
    "print(\"Precision:\", metrics.precision_score(y_test, y_pred,pos_label='positive'))\n"
   ]
  },
  {
   "cell_type": "code",
   "execution_count": null,
   "id": "7d5b0004",
   "metadata": {},
   "outputs": [],
   "source": []
  }
 ],
 "metadata": {
  "kernelspec": {
   "display_name": "Python 3 (ipykernel)",
   "language": "python",
   "name": "python3"
  },
  "language_info": {
   "codemirror_mode": {
    "name": "ipython",
    "version": 3
   },
   "file_extension": ".py",
   "mimetype": "text/x-python",
   "name": "python",
   "nbconvert_exporter": "python",
   "pygments_lexer": "ipython3",
   "version": "3.9.12"
  }
 },
 "nbformat": 4,
 "nbformat_minor": 5
}
